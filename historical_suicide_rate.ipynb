{
 "cells": [
  {
   "cell_type": "code",
   "execution_count": 76,
   "id": "538183e8",
   "metadata": {},
   "outputs": [],
   "source": [
    "import pandas as pd\n",
    "import seaborn as sns\n",
    "import matplotlib.pyplot as plt\n",
    "from datetime import datetime\n",
    "from datetime import date"
   ]
  },
  {
   "cell_type": "markdown",
   "id": "6d6bb5df",
   "metadata": {},
   "source": [
    "Read in suicide rate data"
   ]
  },
  {
   "cell_type": "code",
   "execution_count": 77,
   "id": "4f5af107",
   "metadata": {},
   "outputs": [
    {
     "name": "stdout",
     "output_type": "stream",
     "text": [
      "<class 'pandas.core.frame.DataFrame'>\n",
      "RangeIndex: 549 entries, 0 to 548\n",
      "Data columns (total 22 columns):\n",
      " #   Column   Non-Null Count  Dtype \n",
      "---  ------   --------------  ----- \n",
      " 0   Country  549 non-null    object\n",
      " 1   Sex      549 non-null    object\n",
      " 2    2019    549 non-null    object\n",
      " 3    2018    549 non-null    object\n",
      " 4    2017    549 non-null    object\n",
      " 5    2016    549 non-null    object\n",
      " 6    2015    549 non-null    object\n",
      " 7    2014    549 non-null    object\n",
      " 8    2013    549 non-null    object\n",
      " 9    2012    549 non-null    object\n",
      " 10   2011    549 non-null    object\n",
      " 11   2010    549 non-null    object\n",
      " 12   2009    549 non-null    object\n",
      " 13   2008    549 non-null    object\n",
      " 14   2007    549 non-null    object\n",
      " 15   2006    549 non-null    object\n",
      " 16   2005    549 non-null    object\n",
      " 17   2004    549 non-null    object\n",
      " 18   2003    549 non-null    object\n",
      " 19   2002    549 non-null    object\n",
      " 20   2001    549 non-null    object\n",
      " 21   2000    549 non-null    object\n",
      "dtypes: object(22)\n",
      "memory usage: 94.5+ KB\n"
     ]
    }
   ],
   "source": [
    "raw_df = pd.read_csv('raw_data.csv', header=1)\n",
    "raw_df.info()"
   ]
  },
  {
   "cell_type": "code",
   "execution_count": 78,
   "id": "ab9fa8ff",
   "metadata": {},
   "outputs": [
    {
     "data": {
      "text/plain": [
       "(549, 22)"
      ]
     },
     "execution_count": 78,
     "metadata": {},
     "output_type": "execute_result"
    }
   ],
   "source": [
    "raw_df.shape"
   ]
  },
  {
   "cell_type": "code",
   "execution_count": 79,
   "id": "86b84206",
   "metadata": {},
   "outputs": [
    {
     "data": {
      "text/html": [
       "<div>\n",
       "<style scoped>\n",
       "    .dataframe tbody tr th:only-of-type {\n",
       "        vertical-align: middle;\n",
       "    }\n",
       "\n",
       "    .dataframe tbody tr th {\n",
       "        vertical-align: top;\n",
       "    }\n",
       "\n",
       "    .dataframe thead th {\n",
       "        text-align: right;\n",
       "    }\n",
       "</style>\n",
       "<table border=\"1\" class=\"dataframe\">\n",
       "  <thead>\n",
       "    <tr style=\"text-align: right;\">\n",
       "      <th></th>\n",
       "      <th>Country</th>\n",
       "      <th>Sex</th>\n",
       "      <th>2019</th>\n",
       "      <th>2018</th>\n",
       "      <th>2017</th>\n",
       "      <th>2016</th>\n",
       "      <th>2015</th>\n",
       "      <th>2014</th>\n",
       "      <th>2013</th>\n",
       "      <th>2012</th>\n",
       "      <th>...</th>\n",
       "      <th>2009</th>\n",
       "      <th>2008</th>\n",
       "      <th>2007</th>\n",
       "      <th>2006</th>\n",
       "      <th>2005</th>\n",
       "      <th>2004</th>\n",
       "      <th>2003</th>\n",
       "      <th>2002</th>\n",
       "      <th>2001</th>\n",
       "      <th>2000</th>\n",
       "    </tr>\n",
       "  </thead>\n",
       "  <tbody>\n",
       "    <tr>\n",
       "      <th>0</th>\n",
       "      <td>Afghanistan</td>\n",
       "      <td>Both sexes</td>\n",
       "      <td>6.0 [3.4-9.9]</td>\n",
       "      <td>5.9 [3.4-9.8]</td>\n",
       "      <td>6.0 [3.4-9.9]</td>\n",
       "      <td>6.0 [3.5-9.9]</td>\n",
       "      <td>6.0 [3.5-9.9]</td>\n",
       "      <td>6.0 [3.5-9.9]</td>\n",
       "      <td>6.2 [3.6-10.2]</td>\n",
       "      <td>6.2 [3.6-10.2]</td>\n",
       "      <td>...</td>\n",
       "      <td>6.8 [4.0-11.1]</td>\n",
       "      <td>7.2 [4.2-11.7]</td>\n",
       "      <td>7.4 [4.3-12.1]</td>\n",
       "      <td>7.6 [4.4-12.3]</td>\n",
       "      <td>7.6 [4.4-12.3]</td>\n",
       "      <td>7.8 [4.5-12.6]</td>\n",
       "      <td>7.7 [4.5-12.5]</td>\n",
       "      <td>7.9 [4.5-12.8]</td>\n",
       "      <td>7.9 [4.5-12.8]</td>\n",
       "      <td>7.7 [4.4-12.5]</td>\n",
       "    </tr>\n",
       "    <tr>\n",
       "      <th>1</th>\n",
       "      <td>Afghanistan</td>\n",
       "      <td>Male</td>\n",
       "      <td>6.2 [3.5-10.5]</td>\n",
       "      <td>6.2 [3.5-10.4]</td>\n",
       "      <td>6.3 [3.7-10.7]</td>\n",
       "      <td>6.2 [3.6-10.3]</td>\n",
       "      <td>6.1 [3.6-10.2]</td>\n",
       "      <td>6.1 [3.6-10.2]</td>\n",
       "      <td>6.3 [3.7-10.5]</td>\n",
       "      <td>6.4 [3.7-10.5]</td>\n",
       "      <td>...</td>\n",
       "      <td>7.0 [4.1-11.6]</td>\n",
       "      <td>7.4 [4.3-12.2]</td>\n",
       "      <td>7.7 [4.5-12.6]</td>\n",
       "      <td>7.8 [4.5-12.7]</td>\n",
       "      <td>7.8 [4.5-12.7]</td>\n",
       "      <td>7.9 [4.5-12.9]</td>\n",
       "      <td>7.8 [4.5-12.8]</td>\n",
       "      <td>8.0 [4.6-13.1]</td>\n",
       "      <td>7.9 [4.5-12.9]</td>\n",
       "      <td>7.6 [4.4-12.5]</td>\n",
       "    </tr>\n",
       "    <tr>\n",
       "      <th>2</th>\n",
       "      <td>Afghanistan</td>\n",
       "      <td>Female</td>\n",
       "      <td>5.7 [3.2-9.2]</td>\n",
       "      <td>5.6 [3.2-9.1]</td>\n",
       "      <td>5.5 [3.1-9.0]</td>\n",
       "      <td>5.8 [3.3-9.5]</td>\n",
       "      <td>5.8 [3.3-9.4]</td>\n",
       "      <td>5.9 [3.4-9.5]</td>\n",
       "      <td>6.0 [3.5-9.8]</td>\n",
       "      <td>6.1 [3.6-9.8]</td>\n",
       "      <td>...</td>\n",
       "      <td>6.6 [3.9-10.5]</td>\n",
       "      <td>6.9 [4.0-11.0]</td>\n",
       "      <td>7.1 [4.2-11.4]</td>\n",
       "      <td>7.3 [4.3-11.7]</td>\n",
       "      <td>7.4 [4.3-11.9]</td>\n",
       "      <td>7.6 [4.4-12.2]</td>\n",
       "      <td>7.6 [4.5-12.2]</td>\n",
       "      <td>7.7 [4.5-12.4]</td>\n",
       "      <td>7.9 [4.6-12.6]</td>\n",
       "      <td>7.8 [4.5-12.4]</td>\n",
       "    </tr>\n",
       "    <tr>\n",
       "      <th>3</th>\n",
       "      <td>Albania</td>\n",
       "      <td>Both sexes</td>\n",
       "      <td>3.7 [2.1-5.7]</td>\n",
       "      <td>3.9 [2.2-6.0]</td>\n",
       "      <td>4.1 [2.3-6.3]</td>\n",
       "      <td>4.2 [2.3-6.3]</td>\n",
       "      <td>4.2 [2.3-6.4]</td>\n",
       "      <td>4.5 [2.5-6.7]</td>\n",
       "      <td>4.8 [2.7-7.1]</td>\n",
       "      <td>4.8 [2.8-7.0]</td>\n",
       "      <td>...</td>\n",
       "      <td>8.0 [4.8-10.8]</td>\n",
       "      <td>8.1 [5.0-10.8]</td>\n",
       "      <td>8.1 [5.0-10.6]</td>\n",
       "      <td>7.8 [5.0-10.2]</td>\n",
       "      <td>7.7 [4.9-10.0]</td>\n",
       "      <td>4.9 [3.1-6.3]</td>\n",
       "      <td>4.9 [3.3-6.4]</td>\n",
       "      <td>4.8 [3.2-6.3]</td>\n",
       "      <td>4.7 [3.2-6.2]</td>\n",
       "      <td>5.2 [3.6-6.9]</td>\n",
       "    </tr>\n",
       "    <tr>\n",
       "      <th>4</th>\n",
       "      <td>Albania</td>\n",
       "      <td>Male</td>\n",
       "      <td>5.3 [2.7-8.3]</td>\n",
       "      <td>5.6 [2.9-8.7]</td>\n",
       "      <td>5.7 [2.9-9.0]</td>\n",
       "      <td>5.7 [2.9-8.8]</td>\n",
       "      <td>5.7 [2.9-8.7]</td>\n",
       "      <td>6.2 [3.1-9.3]</td>\n",
       "      <td>6.5 [3.4-9.7]</td>\n",
       "      <td>6.6 [3.4-9.6]</td>\n",
       "      <td>...</td>\n",
       "      <td>10.2 [5.4-14.0]</td>\n",
       "      <td>10.5 [5.6-14.2]</td>\n",
       "      <td>10.5 [5.8-14.1]</td>\n",
       "      <td>10.1 [5.7-13.4]</td>\n",
       "      <td>10.2 [5.9-13.4]</td>\n",
       "      <td>6.7 [4.0-8.8]</td>\n",
       "      <td>6.6 [4.1-8.7]</td>\n",
       "      <td>6.6 [4.1-8.7]</td>\n",
       "      <td>6.5 [4.2-8.5]</td>\n",
       "      <td>7.6 [5.1-10.1]</td>\n",
       "    </tr>\n",
       "  </tbody>\n",
       "</table>\n",
       "<p>5 rows × 22 columns</p>\n",
       "</div>"
      ],
      "text/plain": [
       "       Country          Sex            2019            2018            2017  \\\n",
       "0  Afghanistan   Both sexes   6.0 [3.4-9.9]   5.9 [3.4-9.8]   6.0 [3.4-9.9]   \n",
       "1  Afghanistan         Male  6.2 [3.5-10.5]  6.2 [3.5-10.4]  6.3 [3.7-10.7]   \n",
       "2  Afghanistan       Female   5.7 [3.2-9.2]   5.6 [3.2-9.1]   5.5 [3.1-9.0]   \n",
       "3      Albania   Both sexes   3.7 [2.1-5.7]   3.9 [2.2-6.0]   4.1 [2.3-6.3]   \n",
       "4      Albania         Male   5.3 [2.7-8.3]   5.6 [2.9-8.7]   5.7 [2.9-9.0]   \n",
       "\n",
       "             2016            2015            2014            2013  \\\n",
       "0   6.0 [3.5-9.9]   6.0 [3.5-9.9]   6.0 [3.5-9.9]  6.2 [3.6-10.2]   \n",
       "1  6.2 [3.6-10.3]  6.1 [3.6-10.2]  6.1 [3.6-10.2]  6.3 [3.7-10.5]   \n",
       "2   5.8 [3.3-9.5]   5.8 [3.3-9.4]   5.9 [3.4-9.5]   6.0 [3.5-9.8]   \n",
       "3   4.2 [2.3-6.3]   4.2 [2.3-6.4]   4.5 [2.5-6.7]   4.8 [2.7-7.1]   \n",
       "4   5.7 [2.9-8.8]   5.7 [2.9-8.7]   6.2 [3.1-9.3]   6.5 [3.4-9.7]   \n",
       "\n",
       "             2012  ...             2009             2008             2007  \\\n",
       "0  6.2 [3.6-10.2]  ...   6.8 [4.0-11.1]   7.2 [4.2-11.7]   7.4 [4.3-12.1]   \n",
       "1  6.4 [3.7-10.5]  ...   7.0 [4.1-11.6]   7.4 [4.3-12.2]   7.7 [4.5-12.6]   \n",
       "2   6.1 [3.6-9.8]  ...   6.6 [3.9-10.5]   6.9 [4.0-11.0]   7.1 [4.2-11.4]   \n",
       "3   4.8 [2.8-7.0]  ...   8.0 [4.8-10.8]   8.1 [5.0-10.8]   8.1 [5.0-10.6]   \n",
       "4   6.6 [3.4-9.6]  ...  10.2 [5.4-14.0]  10.5 [5.6-14.2]  10.5 [5.8-14.1]   \n",
       "\n",
       "              2006             2005            2004            2003  \\\n",
       "0   7.6 [4.4-12.3]   7.6 [4.4-12.3]  7.8 [4.5-12.6]  7.7 [4.5-12.5]   \n",
       "1   7.8 [4.5-12.7]   7.8 [4.5-12.7]  7.9 [4.5-12.9]  7.8 [4.5-12.8]   \n",
       "2   7.3 [4.3-11.7]   7.4 [4.3-11.9]  7.6 [4.4-12.2]  7.6 [4.5-12.2]   \n",
       "3   7.8 [5.0-10.2]   7.7 [4.9-10.0]   4.9 [3.1-6.3]   4.9 [3.3-6.4]   \n",
       "4  10.1 [5.7-13.4]  10.2 [5.9-13.4]   6.7 [4.0-8.8]   6.6 [4.1-8.7]   \n",
       "\n",
       "             2002            2001            2000  \n",
       "0  7.9 [4.5-12.8]  7.9 [4.5-12.8]  7.7 [4.4-12.5]  \n",
       "1  8.0 [4.6-13.1]  7.9 [4.5-12.9]  7.6 [4.4-12.5]  \n",
       "2  7.7 [4.5-12.4]  7.9 [4.6-12.6]  7.8 [4.5-12.4]  \n",
       "3   4.8 [3.2-6.3]   4.7 [3.2-6.2]   5.2 [3.6-6.9]  \n",
       "4   6.6 [4.1-8.7]   6.5 [4.2-8.5]  7.6 [5.1-10.1]  \n",
       "\n",
       "[5 rows x 22 columns]"
      ]
     },
     "execution_count": 79,
     "metadata": {},
     "output_type": "execute_result"
    }
   ],
   "source": [
    "raw_df.head()"
   ]
  },
  {
   "cell_type": "markdown",
   "id": "b0d4fbe4",
   "metadata": {},
   "source": [
    "Raw data is designed for human readability, I will melt the table"
   ]
  },
  {
   "cell_type": "code",
   "execution_count": 80,
   "id": "ad0c375c",
   "metadata": {},
   "outputs": [
    {
     "data": {
      "text/html": [
       "<div>\n",
       "<style scoped>\n",
       "    .dataframe tbody tr th:only-of-type {\n",
       "        vertical-align: middle;\n",
       "    }\n",
       "\n",
       "    .dataframe tbody tr th {\n",
       "        vertical-align: top;\n",
       "    }\n",
       "\n",
       "    .dataframe thead th {\n",
       "        text-align: right;\n",
       "    }\n",
       "</style>\n",
       "<table border=\"1\" class=\"dataframe\">\n",
       "  <thead>\n",
       "    <tr style=\"text-align: right;\">\n",
       "      <th></th>\n",
       "      <th>Country</th>\n",
       "      <th>Sex</th>\n",
       "      <th>Year</th>\n",
       "      <th>Rate</th>\n",
       "    </tr>\n",
       "  </thead>\n",
       "  <tbody>\n",
       "    <tr>\n",
       "      <th>0</th>\n",
       "      <td>Afghanistan</td>\n",
       "      <td>Both sexes</td>\n",
       "      <td>2019</td>\n",
       "      <td>6.0 [3.4-9.9]</td>\n",
       "    </tr>\n",
       "    <tr>\n",
       "      <th>1</th>\n",
       "      <td>Afghanistan</td>\n",
       "      <td>Male</td>\n",
       "      <td>2019</td>\n",
       "      <td>6.2 [3.5-10.5]</td>\n",
       "    </tr>\n",
       "    <tr>\n",
       "      <th>2</th>\n",
       "      <td>Afghanistan</td>\n",
       "      <td>Female</td>\n",
       "      <td>2019</td>\n",
       "      <td>5.7 [3.2-9.2]</td>\n",
       "    </tr>\n",
       "    <tr>\n",
       "      <th>3</th>\n",
       "      <td>Albania</td>\n",
       "      <td>Both sexes</td>\n",
       "      <td>2019</td>\n",
       "      <td>3.7 [2.1-5.7]</td>\n",
       "    </tr>\n",
       "    <tr>\n",
       "      <th>4</th>\n",
       "      <td>Albania</td>\n",
       "      <td>Male</td>\n",
       "      <td>2019</td>\n",
       "      <td>5.3 [2.7-8.3]</td>\n",
       "    </tr>\n",
       "  </tbody>\n",
       "</table>\n",
       "</div>"
      ],
      "text/plain": [
       "       Country          Sex   Year            Rate\n",
       "0  Afghanistan   Both sexes   2019   6.0 [3.4-9.9]\n",
       "1  Afghanistan         Male   2019  6.2 [3.5-10.5]\n",
       "2  Afghanistan       Female   2019   5.7 [3.2-9.2]\n",
       "3      Albania   Both sexes   2019   3.7 [2.1-5.7]\n",
       "4      Albania         Male   2019   5.3 [2.7-8.3]"
      ]
     },
     "execution_count": 80,
     "metadata": {},
     "output_type": "execute_result"
    }
   ],
   "source": [
    "df = raw_df.melt(id_vars = ['Country','Sex'], \n",
    "                 value_vars = list(raw_df.columns[2:]),\n",
    "                 var_name = 'Year',        \n",
    "                 value_name = 'Rate')\n",
    "df.head()"
   ]
  },
  {
   "cell_type": "code",
   "execution_count": 81,
   "id": "3f12e8bd",
   "metadata": {},
   "outputs": [
    {
     "name": "stdout",
     "output_type": "stream",
     "text": [
      "<class 'pandas.core.frame.DataFrame'>\n",
      "RangeIndex: 10980 entries, 0 to 10979\n",
      "Data columns (total 4 columns):\n",
      " #   Column   Non-Null Count  Dtype \n",
      "---  ------   --------------  ----- \n",
      " 0   Country  10980 non-null  object\n",
      " 1   Sex      10980 non-null  object\n",
      " 2   Year     10980 non-null  object\n",
      " 3   Rate     10980 non-null  object\n",
      "dtypes: object(4)\n",
      "memory usage: 343.2+ KB\n"
     ]
    }
   ],
   "source": [
    "df.info()"
   ]
  },
  {
   "cell_type": "markdown",
   "id": "9d4306fb",
   "metadata": {},
   "source": [
    "Keep the single rate value and drop the range values"
   ]
  },
  {
   "cell_type": "code",
   "execution_count": 82,
   "id": "dc9fed6f",
   "metadata": {},
   "outputs": [],
   "source": [
    "df['Rate'] = df['Rate'].apply(lambda x: float(x.split(' ')[0]))"
   ]
  },
  {
   "cell_type": "code",
   "execution_count": 83,
   "id": "1a67979c",
   "metadata": {},
   "outputs": [],
   "source": [
    "# df['Year'] = df['Year'].apply(lambda x: datetime.strptime(x.strip(), '%Y'))\n",
    "df['Year'] = df['Year'].apply(lambda x: str(x).strip())\n",
    "df.head()"
   ]
  },
  {
   "cell_type": "code",
   "execution_count": 84,
   "id": "53a2ccb1",
   "metadata": {},
   "outputs": [
    {
     "name": "stdout",
     "output_type": "stream",
     "text": [
      "<class 'pandas.core.frame.DataFrame'>\n",
      "RangeIndex: 10980 entries, 0 to 10979\n",
      "Data columns (total 4 columns):\n",
      " #   Column   Non-Null Count  Dtype  \n",
      "---  ------   --------------  -----  \n",
      " 0   Country  10980 non-null  object \n",
      " 1   Sex      10980 non-null  object \n",
      " 2   Year     10980 non-null  object \n",
      " 3   Rate     10980 non-null  float64\n",
      "dtypes: float64(1), object(3)\n",
      "memory usage: 343.2+ KB\n"
     ]
    }
   ],
   "source": [
    "df.info()"
   ]
  },
  {
   "cell_type": "markdown",
   "id": "74e56901",
   "metadata": {},
   "source": [
    "Read in adult mortality data\n",
    "\n",
    "- probability of dying between 15 and 60 years per 1000 population"
   ]
  },
  {
   "cell_type": "code",
   "execution_count": 85,
   "id": "e2f45979",
   "metadata": {},
   "outputs": [
    {
     "name": "stdout",
     "output_type": "stream",
     "text": [
      "<class 'pandas.core.frame.DataFrame'>\n",
      "RangeIndex: 3111 entries, 0 to 3110\n",
      "Data columns (total 5 columns):\n",
      " #   Column       Non-Null Count  Dtype \n",
      "---  ------       --------------  ----- \n",
      " 0   Country      3111 non-null   object\n",
      " 1   Year         3111 non-null   int64 \n",
      " 2    Both sexes  3111 non-null   int64 \n",
      " 3    Male        3111 non-null   int64 \n",
      " 4    Female      3111 non-null   int64 \n",
      "dtypes: int64(4), object(1)\n",
      "memory usage: 121.6+ KB\n"
     ]
    }
   ],
   "source": [
    "raw_df_m = pd.read_csv('raw_data_mortality.csv', header=1)\n",
    "raw_df_m.info()"
   ]
  },
  {
   "cell_type": "code",
   "execution_count": 86,
   "id": "e6882e95",
   "metadata": {},
   "outputs": [
    {
     "data": {
      "text/html": [
       "<div>\n",
       "<style scoped>\n",
       "    .dataframe tbody tr th:only-of-type {\n",
       "        vertical-align: middle;\n",
       "    }\n",
       "\n",
       "    .dataframe tbody tr th {\n",
       "        vertical-align: top;\n",
       "    }\n",
       "\n",
       "    .dataframe thead th {\n",
       "        text-align: right;\n",
       "    }\n",
       "</style>\n",
       "<table border=\"1\" class=\"dataframe\">\n",
       "  <thead>\n",
       "    <tr style=\"text-align: right;\">\n",
       "      <th></th>\n",
       "      <th>Country</th>\n",
       "      <th>Year</th>\n",
       "      <th>Both sexes</th>\n",
       "      <th>Male</th>\n",
       "      <th>Female</th>\n",
       "    </tr>\n",
       "  </thead>\n",
       "  <tbody>\n",
       "    <tr>\n",
       "      <th>0</th>\n",
       "      <td>Afghanistan</td>\n",
       "      <td>2016</td>\n",
       "      <td>245</td>\n",
       "      <td>272</td>\n",
       "      <td>216</td>\n",
       "    </tr>\n",
       "    <tr>\n",
       "      <th>1</th>\n",
       "      <td>Afghanistan</td>\n",
       "      <td>2015</td>\n",
       "      <td>233</td>\n",
       "      <td>254</td>\n",
       "      <td>210</td>\n",
       "    </tr>\n",
       "    <tr>\n",
       "      <th>2</th>\n",
       "      <td>Afghanistan</td>\n",
       "      <td>2014</td>\n",
       "      <td>234</td>\n",
       "      <td>254</td>\n",
       "      <td>213</td>\n",
       "    </tr>\n",
       "    <tr>\n",
       "      <th>3</th>\n",
       "      <td>Afghanistan</td>\n",
       "      <td>2013</td>\n",
       "      <td>235</td>\n",
       "      <td>254</td>\n",
       "      <td>215</td>\n",
       "    </tr>\n",
       "    <tr>\n",
       "      <th>4</th>\n",
       "      <td>Afghanistan</td>\n",
       "      <td>2012</td>\n",
       "      <td>242</td>\n",
       "      <td>262</td>\n",
       "      <td>221</td>\n",
       "    </tr>\n",
       "  </tbody>\n",
       "</table>\n",
       "</div>"
      ],
      "text/plain": [
       "       Country  Year   Both sexes   Male   Female\n",
       "0  Afghanistan  2016          245    272      216\n",
       "1  Afghanistan  2015          233    254      210\n",
       "2  Afghanistan  2014          234    254      213\n",
       "3  Afghanistan  2013          235    254      215\n",
       "4  Afghanistan  2012          242    262      221"
      ]
     },
     "execution_count": 86,
     "metadata": {},
     "output_type": "execute_result"
    }
   ],
   "source": [
    "raw_df_m.head()"
   ]
  },
  {
   "cell_type": "markdown",
   "id": "8acf06be",
   "metadata": {},
   "source": [
    "melt the table"
   ]
  },
  {
   "cell_type": "code",
   "execution_count": 87,
   "id": "4c01b823",
   "metadata": {},
   "outputs": [
    {
     "data": {
      "text/html": [
       "<div>\n",
       "<style scoped>\n",
       "    .dataframe tbody tr th:only-of-type {\n",
       "        vertical-align: middle;\n",
       "    }\n",
       "\n",
       "    .dataframe tbody tr th {\n",
       "        vertical-align: top;\n",
       "    }\n",
       "\n",
       "    .dataframe thead th {\n",
       "        text-align: right;\n",
       "    }\n",
       "</style>\n",
       "<table border=\"1\" class=\"dataframe\">\n",
       "  <thead>\n",
       "    <tr style=\"text-align: right;\">\n",
       "      <th></th>\n",
       "      <th>Country</th>\n",
       "      <th>Year</th>\n",
       "      <th>Sex</th>\n",
       "      <th>count_per_1K</th>\n",
       "    </tr>\n",
       "  </thead>\n",
       "  <tbody>\n",
       "    <tr>\n",
       "      <th>0</th>\n",
       "      <td>Afghanistan</td>\n",
       "      <td>2016</td>\n",
       "      <td>Both sexes</td>\n",
       "      <td>245</td>\n",
       "    </tr>\n",
       "    <tr>\n",
       "      <th>1</th>\n",
       "      <td>Afghanistan</td>\n",
       "      <td>2015</td>\n",
       "      <td>Both sexes</td>\n",
       "      <td>233</td>\n",
       "    </tr>\n",
       "    <tr>\n",
       "      <th>2</th>\n",
       "      <td>Afghanistan</td>\n",
       "      <td>2014</td>\n",
       "      <td>Both sexes</td>\n",
       "      <td>234</td>\n",
       "    </tr>\n",
       "    <tr>\n",
       "      <th>3</th>\n",
       "      <td>Afghanistan</td>\n",
       "      <td>2013</td>\n",
       "      <td>Both sexes</td>\n",
       "      <td>235</td>\n",
       "    </tr>\n",
       "    <tr>\n",
       "      <th>4</th>\n",
       "      <td>Afghanistan</td>\n",
       "      <td>2012</td>\n",
       "      <td>Both sexes</td>\n",
       "      <td>242</td>\n",
       "    </tr>\n",
       "  </tbody>\n",
       "</table>\n",
       "</div>"
      ],
      "text/plain": [
       "       Country  Year          Sex  count_per_1K\n",
       "0  Afghanistan  2016   Both sexes           245\n",
       "1  Afghanistan  2015   Both sexes           233\n",
       "2  Afghanistan  2014   Both sexes           234\n",
       "3  Afghanistan  2013   Both sexes           235\n",
       "4  Afghanistan  2012   Both sexes           242"
      ]
     },
     "execution_count": 87,
     "metadata": {},
     "output_type": "execute_result"
    }
   ],
   "source": [
    "df_m = raw_df_m.melt(id_vars = ['Country','Year'], \n",
    "                     value_vars = list(raw_df_m.columns[2:]),\n",
    "                     var_name = 'Sex',        \n",
    "                     value_name = 'count_per_1K')\n",
    "df_m.head()"
   ]
  },
  {
   "cell_type": "code",
   "execution_count": 88,
   "id": "37d763f2",
   "metadata": {},
   "outputs": [
    {
     "name": "stdout",
     "output_type": "stream",
     "text": [
      "<class 'pandas.core.frame.DataFrame'>\n",
      "RangeIndex: 9333 entries, 0 to 9332\n",
      "Data columns (total 4 columns):\n",
      " #   Column        Non-Null Count  Dtype \n",
      "---  ------        --------------  ----- \n",
      " 0   Country       9333 non-null   object\n",
      " 1   Year          9333 non-null   object\n",
      " 2   Sex           9333 non-null   object\n",
      " 3   count_per_1K  9333 non-null   int64 \n",
      "dtypes: int64(1), object(3)\n",
      "memory usage: 291.8+ KB\n"
     ]
    }
   ],
   "source": [
    "# df_m['Year'] = df_m['Year'].apply(lambda x: datetime.strptime(str(x), '%Y'))\n",
    "df_m['Year'] = df_m['Year'].apply(lambda x: str(x).strip())\n",
    "df_m.info()"
   ]
  },
  {
   "cell_type": "code",
   "execution_count": 89,
   "id": "b12d54af",
   "metadata": {
    "scrolled": true
   },
   "outputs": [
    {
     "data": {
      "text/plain": [
       "array([' 2019', ' 2018', ' 2017', ' 2016', ' 2015', ' 2014', ' 2013',\n",
       "       ' 2012', ' 2011', ' 2010', ' 2009', ' 2008', ' 2007', ' 2006',\n",
       "       ' 2005', ' 2004', ' 2003', ' 2002', ' 2001', ' 2000'], dtype=object)"
      ]
     },
     "execution_count": 89,
     "metadata": {},
     "output_type": "execute_result"
    }
   ],
   "source": [
    "df['Year'].unique()"
   ]
  },
  {
   "cell_type": "code",
   "execution_count": 90,
   "id": "f9ad4534",
   "metadata": {},
   "outputs": [
    {
     "data": {
      "text/plain": [
       "array(['2016', '2015', '2014', '2013', '2012', '2011', '2010', '2009',\n",
       "       '2008', '2007', '2006', '2005', '2004', '2003', '2002', '2001',\n",
       "       '2000'], dtype=object)"
      ]
     },
     "execution_count": 90,
     "metadata": {},
     "output_type": "execute_result"
    }
   ],
   "source": [
    "df_m['Year'].unique()"
   ]
  },
  {
   "cell_type": "markdown",
   "id": "fc6f0b72",
   "metadata": {},
   "source": [
    "Do countries match up in both tables?"
   ]
  },
  {
   "cell_type": "code",
   "execution_count": 91,
   "id": "48db1a6b",
   "metadata": {},
   "outputs": [
    {
     "data": {
      "text/plain": [
       "set()"
      ]
     },
     "execution_count": 91,
     "metadata": {},
     "output_type": "execute_result"
    }
   ],
   "source": [
    "set(df['Country']) - set(df_m['Country'])"
   ]
  },
  {
   "cell_type": "code",
   "execution_count": 92,
   "id": "2c5c2214",
   "metadata": {},
   "outputs": [
    {
     "name": "stdout",
     "output_type": "stream",
     "text": [
      "183\n",
      "183\n"
     ]
    }
   ],
   "source": [
    "print(len(df['Country'].unique()))\n",
    "print(len(df_m['Country'].unique()))"
   ]
  },
  {
   "cell_type": "markdown",
   "id": "74f8c0c9",
   "metadata": {},
   "source": [
    "Yes"
   ]
  },
  {
   "cell_type": "markdown",
   "id": "bd2aa339",
   "metadata": {},
   "source": [
    "merge both tables on three keys - Country, Year, Gender, left join so rows are not gone away due to missing joining keys"
   ]
  },
  {
   "cell_type": "code",
   "execution_count": 93,
   "id": "f614078d",
   "metadata": {},
   "outputs": [
    {
     "data": {
      "text/plain": [
       "(10980, 5)"
      ]
     },
     "execution_count": 93,
     "metadata": {},
     "output_type": "execute_result"
    }
   ],
   "source": [
    "merge_df = pd.merge(left = df, right = df_m, on = ['Country', 'Year', 'Sex'], how = 'left')\n",
    "merge_df.shape"
   ]
  },
  {
   "cell_type": "code",
   "execution_count": 94,
   "id": "1f936f7d",
   "metadata": {},
   "outputs": [
    {
     "name": "stdout",
     "output_type": "stream",
     "text": [
      "<class 'pandas.core.frame.DataFrame'>\n",
      "Int64Index: 10980 entries, 0 to 10979\n",
      "Data columns (total 5 columns):\n",
      " #   Column        Non-Null Count  Dtype  \n",
      "---  ------        --------------  -----  \n",
      " 0   Country       10980 non-null  object \n",
      " 1   Sex           10980 non-null  object \n",
      " 2   Year          10980 non-null  object \n",
      " 3   Rate          10980 non-null  float64\n",
      " 4   count_per_1K  0 non-null      float64\n",
      "dtypes: float64(2), object(3)\n",
      "memory usage: 514.7+ KB\n"
     ]
    }
   ],
   "source": [
    "merge_df.info()"
   ]
  },
  {
   "cell_type": "code",
   "execution_count": 95,
   "id": "1a069d0f",
   "metadata": {},
   "outputs": [
    {
     "data": {
      "text/html": [
       "<div>\n",
       "<style scoped>\n",
       "    .dataframe tbody tr th:only-of-type {\n",
       "        vertical-align: middle;\n",
       "    }\n",
       "\n",
       "    .dataframe tbody tr th {\n",
       "        vertical-align: top;\n",
       "    }\n",
       "\n",
       "    .dataframe thead th {\n",
       "        text-align: right;\n",
       "    }\n",
       "</style>\n",
       "<table border=\"1\" class=\"dataframe\">\n",
       "  <thead>\n",
       "    <tr style=\"text-align: right;\">\n",
       "      <th></th>\n",
       "      <th>Country</th>\n",
       "      <th>Sex</th>\n",
       "      <th>Year</th>\n",
       "      <th>Rate</th>\n",
       "      <th>count_per_1K</th>\n",
       "    </tr>\n",
       "  </thead>\n",
       "  <tbody>\n",
       "    <tr>\n",
       "      <th>0</th>\n",
       "      <td>Afghanistan</td>\n",
       "      <td>Both sexes</td>\n",
       "      <td>2019</td>\n",
       "      <td>6.0</td>\n",
       "      <td>NaN</td>\n",
       "    </tr>\n",
       "    <tr>\n",
       "      <th>1</th>\n",
       "      <td>Afghanistan</td>\n",
       "      <td>Male</td>\n",
       "      <td>2019</td>\n",
       "      <td>6.2</td>\n",
       "      <td>NaN</td>\n",
       "    </tr>\n",
       "    <tr>\n",
       "      <th>2</th>\n",
       "      <td>Afghanistan</td>\n",
       "      <td>Female</td>\n",
       "      <td>2019</td>\n",
       "      <td>5.7</td>\n",
       "      <td>NaN</td>\n",
       "    </tr>\n",
       "    <tr>\n",
       "      <th>3</th>\n",
       "      <td>Albania</td>\n",
       "      <td>Both sexes</td>\n",
       "      <td>2019</td>\n",
       "      <td>3.7</td>\n",
       "      <td>NaN</td>\n",
       "    </tr>\n",
       "    <tr>\n",
       "      <th>4</th>\n",
       "      <td>Albania</td>\n",
       "      <td>Male</td>\n",
       "      <td>2019</td>\n",
       "      <td>5.3</td>\n",
       "      <td>NaN</td>\n",
       "    </tr>\n",
       "  </tbody>\n",
       "</table>\n",
       "</div>"
      ],
      "text/plain": [
       "       Country          Sex   Year  Rate  count_per_1K\n",
       "0  Afghanistan   Both sexes   2019   6.0           NaN\n",
       "1  Afghanistan         Male   2019   6.2           NaN\n",
       "2  Afghanistan       Female   2019   5.7           NaN\n",
       "3      Albania   Both sexes   2019   3.7           NaN\n",
       "4      Albania         Male   2019   5.3           NaN"
      ]
     },
     "execution_count": 95,
     "metadata": {},
     "output_type": "execute_result"
    }
   ],
   "source": [
    "merge_df.head()"
   ]
  },
  {
   "cell_type": "code",
   "execution_count": 96,
   "id": "470af580",
   "metadata": {},
   "outputs": [
    {
     "data": {
      "text/html": [
       "<div>\n",
       "<style scoped>\n",
       "    .dataframe tbody tr th:only-of-type {\n",
       "        vertical-align: middle;\n",
       "    }\n",
       "\n",
       "    .dataframe tbody tr th {\n",
       "        vertical-align: top;\n",
       "    }\n",
       "\n",
       "    .dataframe thead th {\n",
       "        text-align: right;\n",
       "    }\n",
       "</style>\n",
       "<table border=\"1\" class=\"dataframe\">\n",
       "  <thead>\n",
       "    <tr style=\"text-align: right;\">\n",
       "      <th></th>\n",
       "      <th>Country</th>\n",
       "      <th>Sex</th>\n",
       "      <th>Year</th>\n",
       "      <th>Rate</th>\n",
       "      <th>count_per_1K</th>\n",
       "    </tr>\n",
       "  </thead>\n",
       "  <tbody>\n",
       "    <tr>\n",
       "      <th>10680</th>\n",
       "      <td>Japan</td>\n",
       "      <td>Both sexes</td>\n",
       "      <td>2000</td>\n",
       "      <td>18.1</td>\n",
       "      <td>NaN</td>\n",
       "    </tr>\n",
       "    <tr>\n",
       "      <th>10131</th>\n",
       "      <td>Japan</td>\n",
       "      <td>Both sexes</td>\n",
       "      <td>2001</td>\n",
       "      <td>17.5</td>\n",
       "      <td>NaN</td>\n",
       "    </tr>\n",
       "    <tr>\n",
       "      <th>9582</th>\n",
       "      <td>Japan</td>\n",
       "      <td>Both sexes</td>\n",
       "      <td>2002</td>\n",
       "      <td>17.9</td>\n",
       "      <td>NaN</td>\n",
       "    </tr>\n",
       "    <tr>\n",
       "      <th>9033</th>\n",
       "      <td>Japan</td>\n",
       "      <td>Both sexes</td>\n",
       "      <td>2003</td>\n",
       "      <td>19.5</td>\n",
       "      <td>NaN</td>\n",
       "    </tr>\n",
       "    <tr>\n",
       "      <th>8484</th>\n",
       "      <td>Japan</td>\n",
       "      <td>Both sexes</td>\n",
       "      <td>2004</td>\n",
       "      <td>18.4</td>\n",
       "      <td>NaN</td>\n",
       "    </tr>\n",
       "    <tr>\n",
       "      <th>7935</th>\n",
       "      <td>Japan</td>\n",
       "      <td>Both sexes</td>\n",
       "      <td>2005</td>\n",
       "      <td>18.8</td>\n",
       "      <td>NaN</td>\n",
       "    </tr>\n",
       "    <tr>\n",
       "      <th>7386</th>\n",
       "      <td>Japan</td>\n",
       "      <td>Both sexes</td>\n",
       "      <td>2006</td>\n",
       "      <td>18.4</td>\n",
       "      <td>NaN</td>\n",
       "    </tr>\n",
       "    <tr>\n",
       "      <th>6837</th>\n",
       "      <td>Japan</td>\n",
       "      <td>Both sexes</td>\n",
       "      <td>2007</td>\n",
       "      <td>19.1</td>\n",
       "      <td>NaN</td>\n",
       "    </tr>\n",
       "    <tr>\n",
       "      <th>6288</th>\n",
       "      <td>Japan</td>\n",
       "      <td>Both sexes</td>\n",
       "      <td>2008</td>\n",
       "      <td>19.0</td>\n",
       "      <td>NaN</td>\n",
       "    </tr>\n",
       "    <tr>\n",
       "      <th>5739</th>\n",
       "      <td>Japan</td>\n",
       "      <td>Both sexes</td>\n",
       "      <td>2009</td>\n",
       "      <td>19.5</td>\n",
       "      <td>NaN</td>\n",
       "    </tr>\n",
       "    <tr>\n",
       "      <th>5190</th>\n",
       "      <td>Japan</td>\n",
       "      <td>Both sexes</td>\n",
       "      <td>2010</td>\n",
       "      <td>18.8</td>\n",
       "      <td>NaN</td>\n",
       "    </tr>\n",
       "    <tr>\n",
       "      <th>4641</th>\n",
       "      <td>Japan</td>\n",
       "      <td>Both sexes</td>\n",
       "      <td>2011</td>\n",
       "      <td>18.4</td>\n",
       "      <td>NaN</td>\n",
       "    </tr>\n",
       "    <tr>\n",
       "      <th>4092</th>\n",
       "      <td>Japan</td>\n",
       "      <td>Both sexes</td>\n",
       "      <td>2012</td>\n",
       "      <td>17.0</td>\n",
       "      <td>NaN</td>\n",
       "    </tr>\n",
       "    <tr>\n",
       "      <th>3543</th>\n",
       "      <td>Japan</td>\n",
       "      <td>Both sexes</td>\n",
       "      <td>2013</td>\n",
       "      <td>16.7</td>\n",
       "      <td>NaN</td>\n",
       "    </tr>\n",
       "    <tr>\n",
       "      <th>2994</th>\n",
       "      <td>Japan</td>\n",
       "      <td>Both sexes</td>\n",
       "      <td>2014</td>\n",
       "      <td>15.8</td>\n",
       "      <td>NaN</td>\n",
       "    </tr>\n",
       "    <tr>\n",
       "      <th>2445</th>\n",
       "      <td>Japan</td>\n",
       "      <td>Both sexes</td>\n",
       "      <td>2015</td>\n",
       "      <td>14.9</td>\n",
       "      <td>NaN</td>\n",
       "    </tr>\n",
       "    <tr>\n",
       "      <th>1896</th>\n",
       "      <td>Japan</td>\n",
       "      <td>Both sexes</td>\n",
       "      <td>2016</td>\n",
       "      <td>13.7</td>\n",
       "      <td>NaN</td>\n",
       "    </tr>\n",
       "    <tr>\n",
       "      <th>1347</th>\n",
       "      <td>Japan</td>\n",
       "      <td>Both sexes</td>\n",
       "      <td>2017</td>\n",
       "      <td>13.5</td>\n",
       "      <td>NaN</td>\n",
       "    </tr>\n",
       "    <tr>\n",
       "      <th>798</th>\n",
       "      <td>Japan</td>\n",
       "      <td>Both sexes</td>\n",
       "      <td>2018</td>\n",
       "      <td>13.4</td>\n",
       "      <td>NaN</td>\n",
       "    </tr>\n",
       "    <tr>\n",
       "      <th>249</th>\n",
       "      <td>Japan</td>\n",
       "      <td>Both sexes</td>\n",
       "      <td>2019</td>\n",
       "      <td>12.2</td>\n",
       "      <td>NaN</td>\n",
       "    </tr>\n",
       "  </tbody>\n",
       "</table>\n",
       "</div>"
      ],
      "text/plain": [
       "      Country          Sex   Year  Rate  count_per_1K\n",
       "10680   Japan   Both sexes   2000  18.1           NaN\n",
       "10131   Japan   Both sexes   2001  17.5           NaN\n",
       "9582    Japan   Both sexes   2002  17.9           NaN\n",
       "9033    Japan   Both sexes   2003  19.5           NaN\n",
       "8484    Japan   Both sexes   2004  18.4           NaN\n",
       "7935    Japan   Both sexes   2005  18.8           NaN\n",
       "7386    Japan   Both sexes   2006  18.4           NaN\n",
       "6837    Japan   Both sexes   2007  19.1           NaN\n",
       "6288    Japan   Both sexes   2008  19.0           NaN\n",
       "5739    Japan   Both sexes   2009  19.5           NaN\n",
       "5190    Japan   Both sexes   2010  18.8           NaN\n",
       "4641    Japan   Both sexes   2011  18.4           NaN\n",
       "4092    Japan   Both sexes   2012  17.0           NaN\n",
       "3543    Japan   Both sexes   2013  16.7           NaN\n",
       "2994    Japan   Both sexes   2014  15.8           NaN\n",
       "2445    Japan   Both sexes   2015  14.9           NaN\n",
       "1896    Japan   Both sexes   2016  13.7           NaN\n",
       "1347    Japan   Both sexes   2017  13.5           NaN\n",
       "798     Japan   Both sexes   2018  13.4           NaN\n",
       "249     Japan   Both sexes   2019  12.2           NaN"
      ]
     },
     "execution_count": 96,
     "metadata": {},
     "output_type": "execute_result"
    }
   ],
   "source": [
    "japan = merge_df.query('Country==\"Japan\"').sort_values(['Sex', 'Year'])\n",
    "japan.head(20)"
   ]
  },
  {
   "cell_type": "markdown",
   "id": "de300614",
   "metadata": {},
   "source": [
    "Basic visualization in 1 plot\n",
    "- left axis - suicide rate (solid line)\n",
    "- right axis - mortality rate (dash line)\n",
    "- color by different types of gender"
   ]
  },
  {
   "cell_type": "code",
   "execution_count": 98,
   "id": "f7573a64",
   "metadata": {},
   "outputs": [
    {
     "data": {
      "text/plain": [
       "[' 2000',\n",
       " ' 2001',\n",
       " ' 2002',\n",
       " ' 2003',\n",
       " ' 2004',\n",
       " ' 2005',\n",
       " ' 2006',\n",
       " ' 2007',\n",
       " ' 2008',\n",
       " ' 2009',\n",
       " ' 2010',\n",
       " ' 2011',\n",
       " ' 2012',\n",
       " ' 2013',\n",
       " ' 2014',\n",
       " ' 2015',\n",
       " ' 2016',\n",
       " ' 2017',\n",
       " ' 2018',\n",
       " ' 2019']"
      ]
     },
     "execution_count": 98,
     "metadata": {},
     "output_type": "execute_result"
    }
   ],
   "source": [
    "list(japan.iloc[:,1:]['Year'].unique())"
   ]
  },
  {
   "cell_type": "code",
   "execution_count": 97,
   "id": "6e5fa03b",
   "metadata": {},
   "outputs": [
    {
     "ename": "ConversionError",
     "evalue": "Failed to convert value(s) to axis units: [' 2000', ' 2005', ' 2010', ' 2015']",
     "output_type": "error",
     "traceback": [
      "\u001b[0;31m---------------------------------------------------------------------------\u001b[0m",
      "\u001b[0;31mValueError\u001b[0m                                Traceback (most recent call last)",
      "File \u001b[0;32m~/Library/Python/3.9/lib/python/site-packages/matplotlib/axis.py:1665\u001b[0m, in \u001b[0;36mAxis.convert_units\u001b[0;34m(self, x)\u001b[0m\n\u001b[1;32m   1664\u001b[0m \u001b[38;5;28;01mtry\u001b[39;00m:\n\u001b[0;32m-> 1665\u001b[0m     ret \u001b[38;5;241m=\u001b[39m \u001b[38;5;28;43mself\u001b[39;49m\u001b[38;5;241;43m.\u001b[39;49m\u001b[43mconverter\u001b[49m\u001b[38;5;241;43m.\u001b[39;49m\u001b[43mconvert\u001b[49m\u001b[43m(\u001b[49m\u001b[43mx\u001b[49m\u001b[43m,\u001b[49m\u001b[43m \u001b[49m\u001b[38;5;28;43mself\u001b[39;49m\u001b[38;5;241;43m.\u001b[39;49m\u001b[43munits\u001b[49m\u001b[43m,\u001b[49m\u001b[43m \u001b[49m\u001b[38;5;28;43mself\u001b[39;49m\u001b[43m)\u001b[49m\n\u001b[1;32m   1666\u001b[0m \u001b[38;5;28;01mexcept\u001b[39;00m \u001b[38;5;167;01mException\u001b[39;00m \u001b[38;5;28;01mas\u001b[39;00m e:\n",
      "File \u001b[0;32m~/Library/Python/3.9/lib/python/site-packages/matplotlib/category.py:49\u001b[0m, in \u001b[0;36mStrCategoryConverter.convert\u001b[0;34m(value, unit, axis)\u001b[0m\n\u001b[1;32m     48\u001b[0m \u001b[38;5;28;01mif\u001b[39;00m unit \u001b[38;5;129;01mis\u001b[39;00m \u001b[38;5;28;01mNone\u001b[39;00m:\n\u001b[0;32m---> 49\u001b[0m     \u001b[38;5;28;01mraise\u001b[39;00m \u001b[38;5;167;01mValueError\u001b[39;00m(\n\u001b[1;32m     50\u001b[0m         \u001b[38;5;124m'\u001b[39m\u001b[38;5;124mMissing category information for StrCategoryConverter; \u001b[39m\u001b[38;5;124m'\u001b[39m\n\u001b[1;32m     51\u001b[0m         \u001b[38;5;124m'\u001b[39m\u001b[38;5;124mthis might be caused by unintendedly mixing categorical and \u001b[39m\u001b[38;5;124m'\u001b[39m\n\u001b[1;32m     52\u001b[0m         \u001b[38;5;124m'\u001b[39m\u001b[38;5;124mnumeric data\u001b[39m\u001b[38;5;124m'\u001b[39m)\n\u001b[1;32m     53\u001b[0m StrCategoryConverter\u001b[38;5;241m.\u001b[39m_validate_unit(unit)\n",
      "\u001b[0;31mValueError\u001b[0m: Missing category information for StrCategoryConverter; this might be caused by unintendedly mixing categorical and numeric data",
      "\nThe above exception was the direct cause of the following exception:\n",
      "\u001b[0;31mConversionError\u001b[0m                           Traceback (most recent call last)",
      "Cell \u001b[0;32mIn[97], line 18\u001b[0m\n\u001b[1;32m     13\u001b[0m \u001b[38;5;66;03m# plots the second set, and sets to ax2. \u001b[39;00m\n\u001b[1;32m     14\u001b[0m sns\u001b[38;5;241m.\u001b[39mpointplot(data \u001b[38;5;241m=\u001b[39m japan\u001b[38;5;241m.\u001b[39miloc[:,\u001b[38;5;241m1\u001b[39m:], x \u001b[38;5;241m=\u001b[39m \u001b[38;5;124m'\u001b[39m\u001b[38;5;124mYear\u001b[39m\u001b[38;5;124m'\u001b[39m, y \u001b[38;5;241m=\u001b[39m \u001b[38;5;124m'\u001b[39m\u001b[38;5;124mcount_per_1K\u001b[39m\u001b[38;5;124m'\u001b[39m, \n\u001b[1;32m     15\u001b[0m              ax \u001b[38;5;241m=\u001b[39m ax2, hue\u001b[38;5;241m=\u001b[39m\u001b[38;5;124m'\u001b[39m\u001b[38;5;124mSex\u001b[39m\u001b[38;5;124m'\u001b[39m,\n\u001b[1;32m     16\u001b[0m              scale\u001b[38;5;241m=\u001b[39m\u001b[38;5;241m0.5\u001b[39m, linestyles \u001b[38;5;241m=\u001b[39m \u001b[38;5;124m'\u001b[39m\u001b[38;5;124m:\u001b[39m\u001b[38;5;124m'\u001b[39m) \n\u001b[0;32m---> 18\u001b[0m \u001b[43mg\u001b[49m\u001b[38;5;241;43m.\u001b[39;49m\u001b[43mset_xticks\u001b[49m\u001b[43m(\u001b[49m\u001b[43m[\u001b[49m\u001b[38;5;28;43mlist\u001b[39;49m\u001b[43m(\u001b[49m\u001b[43mjapan\u001b[49m\u001b[38;5;241;43m.\u001b[39;49m\u001b[43miloc\u001b[49m\u001b[43m[\u001b[49m\u001b[43m:\u001b[49m\u001b[43m,\u001b[49m\u001b[38;5;241;43m1\u001b[39;49m\u001b[43m:\u001b[49m\u001b[43m]\u001b[49m\u001b[43m[\u001b[49m\u001b[38;5;124;43m'\u001b[39;49m\u001b[38;5;124;43mYear\u001b[39;49m\u001b[38;5;124;43m'\u001b[39;49m\u001b[43m]\u001b[49m\u001b[38;5;241;43m.\u001b[39;49m\u001b[43munique\u001b[49m\u001b[43m(\u001b[49m\u001b[43m)\u001b[49m\u001b[43m)\u001b[49m\u001b[43m[\u001b[49m\u001b[43mi\u001b[49m\u001b[43m]\u001b[49m\u001b[43m \u001b[49m\u001b[38;5;28;43;01mfor\u001b[39;49;00m\u001b[43m \u001b[49m\u001b[43mi\u001b[49m\u001b[43m \u001b[49m\u001b[38;5;129;43;01min\u001b[39;49;00m\u001b[43m \u001b[49m\u001b[38;5;28;43mrange\u001b[39;49m\u001b[43m(\u001b[49m\u001b[38;5;241;43m0\u001b[39;49m\u001b[43m,\u001b[49m\u001b[38;5;28;43mlen\u001b[39;49m\u001b[43m(\u001b[49m\u001b[43mjapan\u001b[49m\u001b[38;5;241;43m.\u001b[39;49m\u001b[43miloc\u001b[49m\u001b[43m[\u001b[49m\u001b[43m:\u001b[49m\u001b[43m,\u001b[49m\u001b[38;5;241;43m1\u001b[39;49m\u001b[43m:\u001b[49m\u001b[43m]\u001b[49m\u001b[43m[\u001b[49m\u001b[38;5;124;43m'\u001b[39;49m\u001b[38;5;124;43mYear\u001b[39;49m\u001b[38;5;124;43m'\u001b[39;49m\u001b[43m]\u001b[49m\u001b[38;5;241;43m.\u001b[39;49m\u001b[43munique\u001b[49m\u001b[43m(\u001b[49m\u001b[43m)\u001b[49m\u001b[43m)\u001b[49m\u001b[43m,\u001b[49m\u001b[43m \u001b[49m\u001b[38;5;241;43m5\u001b[39;49m\u001b[43m)\u001b[49m\u001b[43m]\u001b[49m\u001b[43m)\u001b[49m\n\u001b[1;32m     19\u001b[0m \u001b[38;5;66;03m# g.set_xticklabels([list(japan.iloc[:,1:]['Year'].unique())[i] for i in range(0,len(japan.iloc[:,1:]['Year'].unique()), 5)])\u001b[39;00m\n\u001b[1;32m     20\u001b[0m \u001b[38;5;66;03m# add more legends\u001b[39;00m\n\u001b[1;32m     21\u001b[0m plt\u001b[38;5;241m.\u001b[39mlegend(labels\u001b[38;5;241m=\u001b[39m[\u001b[38;5;124m\"\u001b[39m\u001b[38;5;124mRate\u001b[39m\u001b[38;5;124m\"\u001b[39m,\u001b[38;5;124m\"\u001b[39m\u001b[38;5;124mcount_per_1K\u001b[39m\u001b[38;5;124m\"\u001b[39m])\n",
      "File \u001b[0;32m~/Library/Python/3.9/lib/python/site-packages/matplotlib/axes/_base.py:73\u001b[0m, in \u001b[0;36m_axis_method_wrapper.__set_name__.<locals>.wrapper\u001b[0;34m(self, *args, **kwargs)\u001b[0m\n\u001b[1;32m     72\u001b[0m \u001b[38;5;28;01mdef\u001b[39;00m \u001b[38;5;21mwrapper\u001b[39m(\u001b[38;5;28mself\u001b[39m, \u001b[38;5;241m*\u001b[39margs, \u001b[38;5;241m*\u001b[39m\u001b[38;5;241m*\u001b[39mkwargs):\n\u001b[0;32m---> 73\u001b[0m     \u001b[38;5;28;01mreturn\u001b[39;00m \u001b[43mget_method\u001b[49m\u001b[43m(\u001b[49m\u001b[38;5;28;43mself\u001b[39;49m\u001b[43m)\u001b[49m\u001b[43m(\u001b[49m\u001b[38;5;241;43m*\u001b[39;49m\u001b[43margs\u001b[49m\u001b[43m,\u001b[49m\u001b[43m \u001b[49m\u001b[38;5;241;43m*\u001b[39;49m\u001b[38;5;241;43m*\u001b[39;49m\u001b[43mkwargs\u001b[49m\u001b[43m)\u001b[49m\n",
      "File \u001b[0;32m~/Library/Python/3.9/lib/python/site-packages/matplotlib/axis.py:2030\u001b[0m, in \u001b[0;36mAxis.set_ticks\u001b[0;34m(self, ticks, labels, minor, **kwargs)\u001b[0m\n\u001b[1;32m   1996\u001b[0m \u001b[38;5;28;01mdef\u001b[39;00m \u001b[38;5;21mset_ticks\u001b[39m(\u001b[38;5;28mself\u001b[39m, ticks, labels\u001b[38;5;241m=\u001b[39m\u001b[38;5;28;01mNone\u001b[39;00m, \u001b[38;5;241m*\u001b[39m, minor\u001b[38;5;241m=\u001b[39m\u001b[38;5;28;01mFalse\u001b[39;00m, \u001b[38;5;241m*\u001b[39m\u001b[38;5;241m*\u001b[39mkwargs):\n\u001b[1;32m   1997\u001b[0m \u001b[38;5;250m    \u001b[39m\u001b[38;5;124;03m\"\"\"\u001b[39;00m\n\u001b[1;32m   1998\u001b[0m \u001b[38;5;124;03m    Set this Axis' tick locations and optionally labels.\u001b[39;00m\n\u001b[1;32m   1999\u001b[0m \n\u001b[0;32m   (...)\u001b[0m\n\u001b[1;32m   2028\u001b[0m \u001b[38;5;124;03m    ticks.\u001b[39;00m\n\u001b[1;32m   2029\u001b[0m \u001b[38;5;124;03m    \"\"\"\u001b[39;00m\n\u001b[0;32m-> 2030\u001b[0m     result \u001b[38;5;241m=\u001b[39m \u001b[38;5;28;43mself\u001b[39;49m\u001b[38;5;241;43m.\u001b[39;49m\u001b[43m_set_tick_locations\u001b[49m\u001b[43m(\u001b[49m\u001b[43mticks\u001b[49m\u001b[43m,\u001b[49m\u001b[43m \u001b[49m\u001b[43mminor\u001b[49m\u001b[38;5;241;43m=\u001b[39;49m\u001b[43mminor\u001b[49m\u001b[43m)\u001b[49m\n\u001b[1;32m   2031\u001b[0m     \u001b[38;5;28;01mif\u001b[39;00m labels \u001b[38;5;129;01mis\u001b[39;00m \u001b[38;5;129;01mnot\u001b[39;00m \u001b[38;5;28;01mNone\u001b[39;00m:\n\u001b[1;32m   2032\u001b[0m         \u001b[38;5;28mself\u001b[39m\u001b[38;5;241m.\u001b[39mset_ticklabels(labels, minor\u001b[38;5;241m=\u001b[39mminor, \u001b[38;5;241m*\u001b[39m\u001b[38;5;241m*\u001b[39mkwargs)\n",
      "File \u001b[0;32m~/Library/Python/3.9/lib/python/site-packages/matplotlib/axis.py:1974\u001b[0m, in \u001b[0;36mAxis._set_tick_locations\u001b[0;34m(self, ticks, minor)\u001b[0m\n\u001b[1;32m   1970\u001b[0m \u001b[38;5;28;01mdef\u001b[39;00m \u001b[38;5;21m_set_tick_locations\u001b[39m(\u001b[38;5;28mself\u001b[39m, ticks, \u001b[38;5;241m*\u001b[39m, minor\u001b[38;5;241m=\u001b[39m\u001b[38;5;28;01mFalse\u001b[39;00m):\n\u001b[1;32m   1971\u001b[0m     \u001b[38;5;66;03m# see docstring of set_ticks\u001b[39;00m\n\u001b[1;32m   1972\u001b[0m \n\u001b[1;32m   1973\u001b[0m     \u001b[38;5;66;03m# XXX if the user changes units, the information will be lost here\u001b[39;00m\n\u001b[0;32m-> 1974\u001b[0m     ticks \u001b[38;5;241m=\u001b[39m \u001b[38;5;28;43mself\u001b[39;49m\u001b[38;5;241;43m.\u001b[39;49m\u001b[43mconvert_units\u001b[49m\u001b[43m(\u001b[49m\u001b[43mticks\u001b[49m\u001b[43m)\u001b[49m\n\u001b[1;32m   1975\u001b[0m     \u001b[38;5;28;01mfor\u001b[39;00m name, axis \u001b[38;5;129;01min\u001b[39;00m \u001b[38;5;28mself\u001b[39m\u001b[38;5;241m.\u001b[39maxes\u001b[38;5;241m.\u001b[39m_axis_map\u001b[38;5;241m.\u001b[39mitems():\n\u001b[1;32m   1976\u001b[0m         \u001b[38;5;28;01mif\u001b[39;00m \u001b[38;5;28mself\u001b[39m \u001b[38;5;129;01mis\u001b[39;00m axis:\n",
      "File \u001b[0;32m~/Library/Python/3.9/lib/python/site-packages/matplotlib/axis.py:1667\u001b[0m, in \u001b[0;36mAxis.convert_units\u001b[0;34m(self, x)\u001b[0m\n\u001b[1;32m   1665\u001b[0m     ret \u001b[38;5;241m=\u001b[39m \u001b[38;5;28mself\u001b[39m\u001b[38;5;241m.\u001b[39mconverter\u001b[38;5;241m.\u001b[39mconvert(x, \u001b[38;5;28mself\u001b[39m\u001b[38;5;241m.\u001b[39munits, \u001b[38;5;28mself\u001b[39m)\n\u001b[1;32m   1666\u001b[0m \u001b[38;5;28;01mexcept\u001b[39;00m \u001b[38;5;167;01mException\u001b[39;00m \u001b[38;5;28;01mas\u001b[39;00m e:\n\u001b[0;32m-> 1667\u001b[0m     \u001b[38;5;28;01mraise\u001b[39;00m munits\u001b[38;5;241m.\u001b[39mConversionError(\u001b[38;5;124m'\u001b[39m\u001b[38;5;124mFailed to convert value(s) to axis \u001b[39m\u001b[38;5;124m'\u001b[39m\n\u001b[1;32m   1668\u001b[0m                                  \u001b[38;5;124mf\u001b[39m\u001b[38;5;124m'\u001b[39m\u001b[38;5;124munits: \u001b[39m\u001b[38;5;132;01m{\u001b[39;00mx\u001b[38;5;132;01m!r}\u001b[39;00m\u001b[38;5;124m'\u001b[39m) \u001b[38;5;28;01mfrom\u001b[39;00m \u001b[38;5;21;01me\u001b[39;00m\n\u001b[1;32m   1669\u001b[0m \u001b[38;5;28;01mreturn\u001b[39;00m ret\n",
      "\u001b[0;31mConversionError\u001b[0m: Failed to convert value(s) to axis units: [' 2000', ' 2005', ' 2010', ' 2015']"
     ]
    },
    {
     "data": {
      "image/png": "[encoded data removed]",
      "text/plain": [
       "<Figure size 1200x600 with 2 Axes>"
      ]
     },
     "metadata": {},
     "output_type": "display_data"
    }
   ],
   "source": [
    "# initializes figure and plots\n",
    "fig, ax1 = plt.subplots(figsize=(12, 6)) \n",
    "\n",
    "# applies twinx to ax2, which is the second y axis. \n",
    "ax2 = ax1.twinx() \n",
    "\n",
    "# plots the first set of data, and sets it to ax1. \n",
    "g = sns.pointplot(data = japan.iloc[:,1:], x = 'Year', y = 'Rate', \n",
    "                  ax = ax1,  hue='Sex',\n",
    "                  scale=0.3, linestyles = '-' \n",
    "                 ) \n",
    "\n",
    "# plots the second set, and sets to ax2. \n",
    "sns.pointplot(data = japan.iloc[:,1:], x = 'Year', y = 'count_per_1K', \n",
    "             ax = ax2, hue='Sex',\n",
    "             scale=0.5, linestyles = ':') \n",
    "\n",
    "g.set_xticks([list(japan.iloc[:,1:]['Year'].unique())[i] for i in range(0,len(japan.iloc[:,1:]['Year'].unique()), 5)])\n",
    "# g.set_xticklabels([list(japan.iloc[:,1:]['Year'].unique())[i] for i in range(0,len(japan.iloc[:,1:]['Year'].unique()), 5)])\n",
    "# add more legends\n",
    "plt.legend(labels=[\"Rate\",\"count_per_1K\"])"
   ]
  },
  {
   "cell_type": "code",
   "execution_count": null,
   "id": "f87dfa56",
   "metadata": {},
   "outputs": [],
   "source": []
  }
 ],
 "metadata": {
  "kernelspec": {
   "display_name": "Python 3 (ipykernel)",
   "language": "python",
   "name": "python3"
  },
  "language_info": {
   "codemirror_mode": {
    "name": "ipython",
    "version": 3
   },
   "file_extension": ".py",
   "mimetype": "text/x-python",
   "name": "python",
   "nbconvert_exporter": "python",
   "pygments_lexer": "ipython3",
   "version": "3.9.6"
  }
 },
 "nbformat": 4,
 "nbformat_minor": 5
}
